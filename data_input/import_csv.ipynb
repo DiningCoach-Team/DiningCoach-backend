{
 "cells": [
  {
   "cell_type": "markdown",
   "metadata": {},
   "source": [
    "### Import CSV files into PostgreSQL database"
   ]
  },
  {
   "cell_type": "code",
   "execution_count": null,
   "metadata": {},
   "outputs": [],
   "source": [
    "# Import library\n",
    "import psycopg2\n",
    "import sqlalchemy"
   ]
  },
  {
   "cell_type": "code",
   "execution_count": null,
   "metadata": {},
   "outputs": [],
   "source": [
    "# Define the database connection parameters\n",
    "db_param = {\n",
    "  'host' : '',\n",
    "  'port' : '',\n",
    "  'dbname': '',\n",
    "  'user': '',\n",
    "  'password': ''\n",
    "}"
   ]
  },
  {
   "cell_type": "code",
   "execution_count": null,
   "metadata": {},
   "outputs": [],
   "source": [
    "# Create a connection to the PostgreSQL server\n",
    "conn = psycopg2.connect(\n",
    "  host=db_param['host'],\n",
    "  port=db_param['port'],\n",
    "  dbname=db_param['dbname'],\n",
    "  user=db_param['user'],\n",
    "  password=db_param['password']\n",
    ")\n",
    "\n",
    "# Create a cursor object\n",
    "cur = conn.cursor()\n",
    "\n",
    "# Set automatic commit to be true, so that each action is committed without having to call conn.commit() after each command\n",
    "conn.set_session(autocommit=True)"
   ]
  },
  {
   "cell_type": "code",
   "execution_count": null,
   "metadata": {},
   "outputs": [],
   "source": [
    "# Create the 'diningcoach' database if not exists\n",
    "# cur.execute('CREATE DATABASE diningcoach')"
   ]
  },
  {
   "cell_type": "code",
   "execution_count": null,
   "metadata": {},
   "outputs": [],
   "source": [
    "# Connect to the 'diningcoach' database\n",
    "# db_param['database'] = 'diningcoach'\n",
    "conn_string = f\"postgresql://{db_param['user']}:{db_param['password']}@{db_param['host']}:{db_param['port']}/{db_param['dbname']}\"\n",
    "engine = sqlalchemy.create_engine(conn_string)\n",
    "\n",
    "# Define the name of tables to insert\n",
    "table_list = [\n",
    "  #'processed_food', #'fresh_food', #'cooked_food',\n",
    "  #'processed_nutrition', #'fresh_nutrition', #'cooked_nutrition',\n",
    "  #'food_category'\n",
    "]"
   ]
  },
  {
   "cell_type": "code",
   "execution_count": null,
   "metadata": {},
   "outputs": [],
   "source": [
    "# Load and display the contents of each CSV file to check\n",
    "# Loop through the CSV files and import them into PostgreSQL\n",
    "table_name = ''\n",
    "\n",
    "file_path = '.'.join([os.path.join('new', table_name), 'csv'])\n",
    "dataframe = pd.read_csv(file_path)\n",
    "\n",
    "# print('=====', table_name, '=====\\n', dataframe.head())  # Display the first few rows of the DataFrame\n",
    "\n",
    "dataframe.to_sql(table_name, engine, if_exists='append', index=False)\n",
    "print('Sucessful insertion of table : ', table_name, '!', sep='')"
   ]
  },
  {
   "cell_type": "code",
   "execution_count": null,
   "metadata": {},
   "outputs": [],
   "source": [
    "# Commit the changes and close the connection to the default database\n",
    "conn.commit()\n",
    "cur.close()\n",
    "conn.close()"
   ]
  }
 ],
 "metadata": {
  "kernelspec": {
   "display_name": "diningcoach_venv",
   "language": "python",
   "name": "python3"
  },
  "language_info": {
   "codemirror_mode": {
    "name": "ipython",
    "version": 3
   },
   "file_extension": ".py",
   "mimetype": "text/x-python",
   "name": "python",
   "nbconvert_exporter": "python",
   "pygments_lexer": "ipython3",
   "version": "3.10.8"
  },
  "orig_nbformat": 4
 },
 "nbformat": 4,
 "nbformat_minor": 2
}
